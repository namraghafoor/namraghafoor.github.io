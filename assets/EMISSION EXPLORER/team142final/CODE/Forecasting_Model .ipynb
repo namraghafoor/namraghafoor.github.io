{
 "cells": [
  {
   "cell_type": "code",
   "execution_count": 1,
   "id": "44dc5179",
   "metadata": {},
   "outputs": [],
   "source": [
    "import pandas as pd \n",
    "import numpy as np \n",
    "import matplotlib.pyplot as plt\n",
    "import seaborn as sns \n",
    "from statsmodels.graphics.tsaplots import plot_acf, plot_pacf\n",
    "from statsmodels.tsa.arima.model import ARIMA\n",
    "import pmdarima as pm \n",
    "import sklearn.metrics as skm\n",
    "from statsmodels.tsa.holtwinters import SimpleExpSmoothing"
   ]
  },
  {
   "cell_type": "code",
   "execution_count": 2,
   "id": "dbc8434d",
   "metadata": {},
   "outputs": [
    {
     "data": {
      "text/html": [
       "<div>\n",
       "<style scoped>\n",
       "    .dataframe tbody tr th:only-of-type {\n",
       "        vertical-align: middle;\n",
       "    }\n",
       "\n",
       "    .dataframe tbody tr th {\n",
       "        vertical-align: top;\n",
       "    }\n",
       "\n",
       "    .dataframe thead th {\n",
       "        text-align: right;\n",
       "    }\n",
       "</style>\n",
       "<table border=\"1\" class=\"dataframe\">\n",
       "  <thead>\n",
       "    <tr style=\"text-align: right;\">\n",
       "      <th></th>\n",
       "      <th>period</th>\n",
       "      <th>sectorId</th>\n",
       "      <th>sector-name</th>\n",
       "      <th>fuelId</th>\n",
       "      <th>fuel-name</th>\n",
       "      <th>stateId</th>\n",
       "      <th>state-name</th>\n",
       "      <th>value</th>\n",
       "      <th>value-units</th>\n",
       "      <th>region</th>\n",
       "      <th>population</th>\n",
       "      <th>value-population</th>\n",
       "    </tr>\n",
       "  </thead>\n",
       "  <tbody>\n",
       "    <tr>\n",
       "      <th>0</th>\n",
       "      <td>2021</td>\n",
       "      <td>RC</td>\n",
       "      <td>Residential carbon dioxide emissions</td>\n",
       "      <td>CO</td>\n",
       "      <td>Coal</td>\n",
       "      <td>SC</td>\n",
       "      <td>South Carolina</td>\n",
       "      <td>0.000000</td>\n",
       "      <td>million metric tons of CO2</td>\n",
       "      <td>SERC</td>\n",
       "      <td>5193</td>\n",
       "      <td>population in thousands</td>\n",
       "    </tr>\n",
       "    <tr>\n",
       "      <th>1</th>\n",
       "      <td>2021</td>\n",
       "      <td>TT</td>\n",
       "      <td>Total carbon dioxide emissions from all sectors</td>\n",
       "      <td>NG</td>\n",
       "      <td>Natural Gas</td>\n",
       "      <td>DC</td>\n",
       "      <td>District of Columbia</td>\n",
       "      <td>1.499258</td>\n",
       "      <td>million metric tons of CO2</td>\n",
       "      <td>RFC</td>\n",
       "      <td>669</td>\n",
       "      <td>population in thousands</td>\n",
       "    </tr>\n",
       "    <tr>\n",
       "      <th>2</th>\n",
       "      <td>2021</td>\n",
       "      <td>TT</td>\n",
       "      <td>Total carbon dioxide emissions from all sectors</td>\n",
       "      <td>PE</td>\n",
       "      <td>Petroleum</td>\n",
       "      <td>DC</td>\n",
       "      <td>District of Columbia</td>\n",
       "      <td>1.021598</td>\n",
       "      <td>million metric tons of CO2</td>\n",
       "      <td>RFC</td>\n",
       "      <td>669</td>\n",
       "      <td>population in thousands</td>\n",
       "    </tr>\n",
       "    <tr>\n",
       "      <th>3</th>\n",
       "      <td>2021</td>\n",
       "      <td>TT</td>\n",
       "      <td>Total carbon dioxide emissions from all sectors</td>\n",
       "      <td>CO</td>\n",
       "      <td>Coal</td>\n",
       "      <td>DC</td>\n",
       "      <td>District of Columbia</td>\n",
       "      <td>0.000000</td>\n",
       "      <td>million metric tons of CO2</td>\n",
       "      <td>RFC</td>\n",
       "      <td>669</td>\n",
       "      <td>population in thousands</td>\n",
       "    </tr>\n",
       "    <tr>\n",
       "      <th>4</th>\n",
       "      <td>2021</td>\n",
       "      <td>TT</td>\n",
       "      <td>Total carbon dioxide emissions from all sectors</td>\n",
       "      <td>TO</td>\n",
       "      <td>All Fuels</td>\n",
       "      <td>DC</td>\n",
       "      <td>District of Columbia</td>\n",
       "      <td>2.520856</td>\n",
       "      <td>million metric tons of CO2</td>\n",
       "      <td>RFC</td>\n",
       "      <td>669</td>\n",
       "      <td>population in thousands</td>\n",
       "    </tr>\n",
       "  </tbody>\n",
       "</table>\n",
       "</div>"
      ],
      "text/plain": [
       "   period sectorId                                      sector-name fuelId  \\\n",
       "0    2021       RC             Residential carbon dioxide emissions     CO   \n",
       "1    2021       TT  Total carbon dioxide emissions from all sectors     NG   \n",
       "2    2021       TT  Total carbon dioxide emissions from all sectors     PE   \n",
       "3    2021       TT  Total carbon dioxide emissions from all sectors     CO   \n",
       "4    2021       TT  Total carbon dioxide emissions from all sectors     TO   \n",
       "\n",
       "     fuel-name stateId            state-name     value  \\\n",
       "0         Coal      SC        South Carolina  0.000000   \n",
       "1  Natural Gas      DC  District of Columbia  1.499258   \n",
       "2    Petroleum      DC  District of Columbia  1.021598   \n",
       "3         Coal      DC  District of Columbia  0.000000   \n",
       "4    All Fuels      DC  District of Columbia  2.520856   \n",
       "\n",
       "                  value-units region  population         value-population  \n",
       "0  million metric tons of CO2   SERC        5193  population in thousands  \n",
       "1  million metric tons of CO2    RFC         669  population in thousands  \n",
       "2  million metric tons of CO2    RFC         669  population in thousands  \n",
       "3  million metric tons of CO2    RFC         669  population in thousands  \n",
       "4  million metric tons of CO2    RFC         669  population in thousands  "
      ]
     },
     "execution_count": 2,
     "metadata": {},
     "output_type": "execute_result"
    }
   ],
   "source": [
    "df = pd.read_csv(\"data.csv\")\n",
    "df = df.drop(['Unnamed: 0','Unnamed: 10'], axis=1)\n",
    "df = df.dropna()\n",
    "df = df[df['period']>=1996]\n",
    "df.head()"
   ]
  },
  {
   "cell_type": "code",
   "execution_count": 3,
   "id": "6d1a1fa2",
   "metadata": {},
   "outputs": [
    {
     "data": {
      "text/html": [
       "<div>\n",
       "<style scoped>\n",
       "    .dataframe tbody tr th:only-of-type {\n",
       "        vertical-align: middle;\n",
       "    }\n",
       "\n",
       "    .dataframe tbody tr th {\n",
       "        vertical-align: top;\n",
       "    }\n",
       "\n",
       "    .dataframe thead th {\n",
       "        text-align: right;\n",
       "    }\n",
       "</style>\n",
       "<table border=\"1\" class=\"dataframe\">\n",
       "  <thead>\n",
       "    <tr style=\"text-align: right;\">\n",
       "      <th></th>\n",
       "      <th>period</th>\n",
       "      <th>sectorId</th>\n",
       "      <th>sector-name</th>\n",
       "      <th>fuelId</th>\n",
       "      <th>fuel-name</th>\n",
       "      <th>stateId</th>\n",
       "      <th>state-name</th>\n",
       "      <th>value</th>\n",
       "      <th>value-units</th>\n",
       "      <th>region</th>\n",
       "      <th>population</th>\n",
       "      <th>value-population</th>\n",
       "    </tr>\n",
       "  </thead>\n",
       "  <tbody>\n",
       "    <tr>\n",
       "      <th>32447</th>\n",
       "      <td>1996</td>\n",
       "      <td>TT</td>\n",
       "      <td>Total carbon dioxide emissions from all sectors</td>\n",
       "      <td>NG</td>\n",
       "      <td>Natural Gas</td>\n",
       "      <td>TN</td>\n",
       "      <td>Tennessee</td>\n",
       "      <td>15.048713</td>\n",
       "      <td>million metric tons of CO2</td>\n",
       "      <td>SERC</td>\n",
       "      <td>5417</td>\n",
       "      <td>population in thousands</td>\n",
       "    </tr>\n",
       "    <tr>\n",
       "      <th>31659</th>\n",
       "      <td>1996</td>\n",
       "      <td>TT</td>\n",
       "      <td>Total carbon dioxide emissions from all sectors</td>\n",
       "      <td>NG</td>\n",
       "      <td>Natural Gas</td>\n",
       "      <td>NY</td>\n",
       "      <td>New York</td>\n",
       "      <td>64.783701</td>\n",
       "      <td>million metric tons of CO2</td>\n",
       "      <td>NPCC</td>\n",
       "      <td>18588</td>\n",
       "      <td>population in thousands</td>\n",
       "    </tr>\n",
       "    <tr>\n",
       "      <th>31637</th>\n",
       "      <td>1996</td>\n",
       "      <td>TT</td>\n",
       "      <td>Total carbon dioxide emissions from all sectors</td>\n",
       "      <td>CO</td>\n",
       "      <td>Coal</td>\n",
       "      <td>MO</td>\n",
       "      <td>Missouri</td>\n",
       "      <td>59.963110</td>\n",
       "      <td>million metric tons of CO2</td>\n",
       "      <td>SERC</td>\n",
       "      <td>5432</td>\n",
       "      <td>population in thousands</td>\n",
       "    </tr>\n",
       "    <tr>\n",
       "      <th>31636</th>\n",
       "      <td>1996</td>\n",
       "      <td>TT</td>\n",
       "      <td>Total carbon dioxide emissions from all sectors</td>\n",
       "      <td>PE</td>\n",
       "      <td>Petroleum</td>\n",
       "      <td>MO</td>\n",
       "      <td>Missouri</td>\n",
       "      <td>46.898234</td>\n",
       "      <td>million metric tons of CO2</td>\n",
       "      <td>SERC</td>\n",
       "      <td>5432</td>\n",
       "      <td>population in thousands</td>\n",
       "    </tr>\n",
       "    <tr>\n",
       "      <th>31614</th>\n",
       "      <td>1996</td>\n",
       "      <td>TT</td>\n",
       "      <td>Total carbon dioxide emissions from all sectors</td>\n",
       "      <td>CO</td>\n",
       "      <td>Coal</td>\n",
       "      <td>NE</td>\n",
       "      <td>Nebraska</td>\n",
       "      <td>16.997587</td>\n",
       "      <td>million metric tons of CO2</td>\n",
       "      <td>MRO</td>\n",
       "      <td>1674</td>\n",
       "      <td>population in thousands</td>\n",
       "    </tr>\n",
       "  </tbody>\n",
       "</table>\n",
       "</div>"
      ],
      "text/plain": [
       "       period sectorId                                      sector-name  \\\n",
       "32447    1996       TT  Total carbon dioxide emissions from all sectors   \n",
       "31659    1996       TT  Total carbon dioxide emissions from all sectors   \n",
       "31637    1996       TT  Total carbon dioxide emissions from all sectors   \n",
       "31636    1996       TT  Total carbon dioxide emissions from all sectors   \n",
       "31614    1996       TT  Total carbon dioxide emissions from all sectors   \n",
       "\n",
       "      fuelId    fuel-name stateId state-name      value  \\\n",
       "32447     NG  Natural Gas      TN  Tennessee  15.048713   \n",
       "31659     NG  Natural Gas      NY   New York  64.783701   \n",
       "31637     CO         Coal      MO   Missouri  59.963110   \n",
       "31636     PE    Petroleum      MO   Missouri  46.898234   \n",
       "31614     CO         Coal      NE   Nebraska  16.997587   \n",
       "\n",
       "                      value-units region  population         value-population  \n",
       "32447  million metric tons of CO2   SERC        5417  population in thousands  \n",
       "31659  million metric tons of CO2   NPCC       18588  population in thousands  \n",
       "31637  million metric tons of CO2   SERC        5432  population in thousands  \n",
       "31636  million metric tons of CO2   SERC        5432  population in thousands  \n",
       "31614  million metric tons of CO2    MRO        1674  population in thousands  "
      ]
     },
     "execution_count": 3,
     "metadata": {},
     "output_type": "execute_result"
    }
   ],
   "source": [
    "#filtering data for total United States, Alaska and Hawaii. Build dataset only for Total carbon dioxide emissions from all sectors\n",
    "mask = df['state-name'].isin(['United States', 'Alaska', 'Hawaii'])\n",
    "filter_df = df[~mask]\n",
    "filter_df = filter_df[(filter_df['sectorId'] == 'TT') & (filter_df['fuelId'] != 'TO')].sort_values(['period'])\n",
    "filter_df.head()\n"
   ]
  },
  {
   "cell_type": "code",
   "execution_count": 4,
   "id": "21f84924",
   "metadata": {},
   "outputs": [],
   "source": [
    "def data_exploration_plot(df):\n",
    "    plt.figure(figsize=(20,10))\n",
    "    sns.set_style(\"whitegrid\")\n",
    "    for s, d in df.groupby('region'):\n",
    "        plt.plot(d['period'],d['value'], label = s)\n",
    "    plt.legend()\n",
    "    plt.title('Total CO2 emission for United States by region')\n",
    "    plt.ylabel('CO2 in million metric tons')\n",
    "    plt.xlabel('Year')\n",
    "    plt.show()"
   ]
  },
  {
   "cell_type": "code",
   "execution_count": 5,
   "id": "57d192c0",
   "metadata": {},
   "outputs": [],
   "source": [
    "def ARIMA_train(df,p,d,q):\n",
    "    model = ARIMA(df, order = (p,d,q)).fit()\n",
    "    return model"
   ]
  },
  {
   "cell_type": "code",
   "execution_count": 6,
   "id": "6593a8f0",
   "metadata": {},
   "outputs": [],
   "source": [
    "evaluation_df = pd.DataFrame(index=['mean_absolute_error', 'mean_absolute_percentage_error', 'root_mean_square_error', 'r2_score'])\n",
    "def evaluation_metric(df, forecast):\n",
    "    mae = skm.mean_absolute_error(df,forecast)\n",
    "    mape = skm.mean_absolute_percentage_error(df,forecast)\n",
    "    rmse = np.sqrt(skm.mean_squared_error(df,forecast))\n",
    "    r2 = skm.r2_score(df, forecast)\n",
    "    return [mae,mape,rmse,r2]"
   ]
  },
  {
   "cell_type": "code",
   "execution_count": 7,
   "id": "8965dd5b",
   "metadata": {},
   "outputs": [],
   "source": [
    "def models_with_evaluation(df, region): \n",
    "    #plot time series graph\n",
    "    #data_exploration_plot(df)\n",
    "    df_train = df[(df['period']<= 2012)]\n",
    "    df_test = df[df['period']>2012]\n",
    "    values = df_train['value']\n",
    "    values_test = df_test['value']\n",
    "    #plotting acf graph \n",
    "    plot_acf(values)\n",
    "    #plotting pacf graph\n",
    "    plot_pacf(values)\n",
    "    #Training ARIMA(1,0,0) i.e Autoregressor model \n",
    "    model1 = ARIMA_train(values, 1,0,0)\n",
    "    evaluation_df['ARIMA(1,0,0)_'+ region] = evaluation_metric(values_test,model1.forecast(len(values_test)))\n",
    "    #print(\"Summary of ARIMA(1,0,0)\")\n",
    "    #print(model1.summary())\n",
    "    #Training ARIMA(0,0,4) i.e.Moving Average model \n",
    "    model2 = ARIMA_train(values,0,0,2)\n",
    "    evaluation_df['ARIMA(0,0,2)_'+ region] = evaluation_metric(values_test,model2.forecast(len(values_test)))\n",
    "    #print(\"Summary of ARIMA(0,0,2)\")\n",
    "    #print(model2.summary())\n",
    "    #Training Auto ARIMA \n",
    "    model3 = pm.auto_arima(values, stepwise = False, seasonal = False)\n",
    "    model_selected = model3.get_params()['order']\n",
    "    model_string = \"(\" + \", \".join(map(str, model_selected)) + \")\"\n",
    "    evaluation_df['ARIMA'+model_string+'_'+region] = evaluation_metric(values_test,model3.predict(n_periods =len(values_test)))\n",
    "    #print(\"Summary of Auto-ARIMA model\")\n",
    "    #print(model3.summary())\n",
    "    model4 = SimpleExpSmoothing(values)\n",
    "    evaluation_df['ES_level_none_'+region] = evaluation_metric(values_test, model4.fit().forecast(len(values_test)))\n",
    "    evaluation_df['ES_level_0.2_'+region] = evaluation_metric(values_test, model4.fit(smoothing_level=.2).forecast(len(values_test)))\n",
    "    evaluation_df['ES_level_0.5_'+region] = evaluation_metric(values_test, model4.fit(smoothing_level=.5).forecast(len(values_test)))\n",
    "    \n",
    "    "
   ]
  },
  {
   "cell_type": "code",
   "execution_count": 8,
   "id": "c0eee05a",
   "metadata": {},
   "outputs": [
    {
     "name": "stderr",
     "output_type": "stream",
     "text": [
      "C:\\Users\\sharv\\anaconda3\\lib\\site-packages\\statsmodels\\graphics\\tsaplots.py:348: FutureWarning: The default method 'yw' can produce PACF values outside of the [-1,1] interval. After 0.13, the default will change tounadjusted Yule-Walker ('ywm'). You can use this method now by setting method='ywm'.\n",
      "  warnings.warn(\n",
      "C:\\Users\\sharv\\anaconda3\\lib\\site-packages\\statsmodels\\tsa\\base\\tsa_model.py:471: ValueWarning: An unsupported index was provided and will be ignored when e.g. forecasting.\n",
      "  self._init_dates(dates, freq)\n",
      "C:\\Users\\sharv\\anaconda3\\lib\\site-packages\\statsmodels\\tsa\\base\\tsa_model.py:471: ValueWarning: An unsupported index was provided and will be ignored when e.g. forecasting.\n",
      "  self._init_dates(dates, freq)\n",
      "C:\\Users\\sharv\\anaconda3\\lib\\site-packages\\statsmodels\\tsa\\base\\tsa_model.py:471: ValueWarning: An unsupported index was provided and will be ignored when e.g. forecasting.\n",
      "  self._init_dates(dates, freq)\n",
      "C:\\Users\\sharv\\anaconda3\\lib\\site-packages\\statsmodels\\tsa\\base\\tsa_model.py:834: ValueWarning: No supported index is available. Prediction results will be given with an integer index beginning at `start`.\n",
      "  return get_prediction_index(\n",
      "C:\\Users\\sharv\\anaconda3\\lib\\site-packages\\statsmodels\\tsa\\base\\tsa_model.py:471: ValueWarning: An unsupported index was provided and will be ignored when e.g. forecasting.\n",
      "  self._init_dates(dates, freq)\n",
      "C:\\Users\\sharv\\anaconda3\\lib\\site-packages\\statsmodels\\tsa\\base\\tsa_model.py:471: ValueWarning: An unsupported index was provided and will be ignored when e.g. forecasting.\n",
      "  self._init_dates(dates, freq)\n",
      "C:\\Users\\sharv\\anaconda3\\lib\\site-packages\\statsmodels\\tsa\\base\\tsa_model.py:471: ValueWarning: An unsupported index was provided and will be ignored when e.g. forecasting.\n",
      "  self._init_dates(dates, freq)\n",
      "C:\\Users\\sharv\\anaconda3\\lib\\site-packages\\statsmodels\\tsa\\base\\tsa_model.py:834: ValueWarning: No supported index is available. Prediction results will be given with an integer index beginning at `start`.\n",
      "  return get_prediction_index(\n",
      "C:\\Users\\sharv\\anaconda3\\lib\\site-packages\\statsmodels\\tsa\\base\\tsa_model.py:834: ValueWarning: No supported index is available. Prediction results will be given with an integer index beginning at `start`.\n",
      "  return get_prediction_index(\n",
      "C:\\Users\\sharv\\anaconda3\\lib\\site-packages\\statsmodels\\tsa\\base\\tsa_model.py:471: ValueWarning: An unsupported index was provided and will be ignored when e.g. forecasting.\n",
      "  self._init_dates(dates, freq)\n",
      "C:\\Users\\sharv\\anaconda3\\lib\\site-packages\\statsmodels\\tsa\\base\\tsa_model.py:834: ValueWarning: No supported index is available. Prediction results will be given with an integer index beginning at `start`.\n",
      "  return get_prediction_index(\n",
      "C:\\Users\\sharv\\anaconda3\\lib\\site-packages\\statsmodels\\tsa\\base\\tsa_model.py:834: ValueWarning: No supported index is available. Prediction results will be given with an integer index beginning at `start`.\n",
      "  return get_prediction_index(\n",
      "C:\\Users\\sharv\\anaconda3\\lib\\site-packages\\statsmodels\\tsa\\base\\tsa_model.py:834: ValueWarning: No supported index is available. Prediction results will be given with an integer index beginning at `start`.\n",
      "  return get_prediction_index(\n"
     ]
    },
    {
     "data": {
      "image/png": "[encoded data removed]",
      "text/plain": [
       "<Figure size 432x288 with 1 Axes>"
      ]
     },
     "metadata": {
      "needs_background": "light"
     },
     "output_type": "display_data"
    },
    {
     "data": {
      "image/png": "[encoded data removed]",
      "text/plain": [
       "<Figure size 432x288 with 1 Axes>"
      ]
     },
     "metadata": {
      "needs_background": "light"
     },
     "output_type": "display_data"
    }
   ],
   "source": [
    "# Result for region SERC\n",
    "df_serc = filter_df[(filter_df['region']=='SERC')]\n",
    "models_with_evaluation(df_serc, 'SERC')"
   ]
  },
  {
   "cell_type": "code",
   "execution_count": 9,
   "id": "0c51bcb1",
   "metadata": {},
   "outputs": [
    {
     "name": "stderr",
     "output_type": "stream",
     "text": [
      "C:\\Users\\sharv\\anaconda3\\lib\\site-packages\\statsmodels\\graphics\\tsaplots.py:348: FutureWarning: The default method 'yw' can produce PACF values outside of the [-1,1] interval. After 0.13, the default will change tounadjusted Yule-Walker ('ywm'). You can use this method now by setting method='ywm'.\n",
      "  warnings.warn(\n",
      "C:\\Users\\sharv\\anaconda3\\lib\\site-packages\\statsmodels\\tsa\\base\\tsa_model.py:471: ValueWarning: An unsupported index was provided and will be ignored when e.g. forecasting.\n",
      "  self._init_dates(dates, freq)\n",
      "C:\\Users\\sharv\\anaconda3\\lib\\site-packages\\statsmodels\\tsa\\base\\tsa_model.py:471: ValueWarning: An unsupported index was provided and will be ignored when e.g. forecasting.\n",
      "  self._init_dates(dates, freq)\n",
      "C:\\Users\\sharv\\anaconda3\\lib\\site-packages\\statsmodels\\tsa\\base\\tsa_model.py:471: ValueWarning: An unsupported index was provided and will be ignored when e.g. forecasting.\n",
      "  self._init_dates(dates, freq)\n",
      "C:\\Users\\sharv\\anaconda3\\lib\\site-packages\\statsmodels\\tsa\\base\\tsa_model.py:834: ValueWarning: No supported index is available. Prediction results will be given with an integer index beginning at `start`.\n",
      "  return get_prediction_index(\n",
      "C:\\Users\\sharv\\anaconda3\\lib\\site-packages\\statsmodels\\tsa\\base\\tsa_model.py:471: ValueWarning: An unsupported index was provided and will be ignored when e.g. forecasting.\n",
      "  self._init_dates(dates, freq)\n",
      "C:\\Users\\sharv\\anaconda3\\lib\\site-packages\\statsmodels\\tsa\\base\\tsa_model.py:471: ValueWarning: An unsupported index was provided and will be ignored when e.g. forecasting.\n",
      "  self._init_dates(dates, freq)\n",
      "C:\\Users\\sharv\\anaconda3\\lib\\site-packages\\statsmodels\\tsa\\base\\tsa_model.py:471: ValueWarning: An unsupported index was provided and will be ignored when e.g. forecasting.\n",
      "  self._init_dates(dates, freq)\n",
      "C:\\Users\\sharv\\anaconda3\\lib\\site-packages\\statsmodels\\tsa\\base\\tsa_model.py:834: ValueWarning: No supported index is available. Prediction results will be given with an integer index beginning at `start`.\n",
      "  return get_prediction_index(\n",
      "C:\\Users\\sharv\\anaconda3\\lib\\site-packages\\statsmodels\\tsa\\base\\tsa_model.py:834: ValueWarning: No supported index is available. Prediction results will be given with an integer index beginning at `start`.\n",
      "  return get_prediction_index(\n",
      "C:\\Users\\sharv\\anaconda3\\lib\\site-packages\\statsmodels\\tsa\\base\\tsa_model.py:471: ValueWarning: An unsupported index was provided and will be ignored when e.g. forecasting.\n",
      "  self._init_dates(dates, freq)\n",
      "C:\\Users\\sharv\\anaconda3\\lib\\site-packages\\statsmodels\\tsa\\base\\tsa_model.py:834: ValueWarning: No supported index is available. Prediction results will be given with an integer index beginning at `start`.\n",
      "  return get_prediction_index(\n",
      "C:\\Users\\sharv\\anaconda3\\lib\\site-packages\\statsmodels\\tsa\\base\\tsa_model.py:834: ValueWarning: No supported index is available. Prediction results will be given with an integer index beginning at `start`.\n",
      "  return get_prediction_index(\n",
      "C:\\Users\\sharv\\anaconda3\\lib\\site-packages\\statsmodels\\tsa\\base\\tsa_model.py:834: ValueWarning: No supported index is available. Prediction results will be given with an integer index beginning at `start`.\n",
      "  return get_prediction_index(\n"
     ]
    },
    {
     "data": {
      "image/png": "[encoded data removed]",
      "text/plain": [
       "<Figure size 432x288 with 1 Axes>"
      ]
     },
     "metadata": {
      "needs_background": "light"
     },
     "output_type": "display_data"
    },
    {
     "data": {
      "image/png": "[encoded data removed]",
      "text/plain": [
       "<Figure size 432x288 with 1 Axes>"
      ]
     },
     "metadata": {
      "needs_background": "light"
     },
     "output_type": "display_data"
    }
   ],
   "source": [
    "# Result for region RFC\n",
    "df_rfc = filter_df[(filter_df['region']=='RFC')]\n",
    "models_with_evaluation(df_rfc, 'RFC')"
   ]
  },
  {
   "cell_type": "code",
   "execution_count": 10,
   "id": "346d5d9e",
   "metadata": {},
   "outputs": [
    {
     "name": "stderr",
     "output_type": "stream",
     "text": [
      "C:\\Users\\sharv\\anaconda3\\lib\\site-packages\\statsmodels\\graphics\\tsaplots.py:348: FutureWarning: The default method 'yw' can produce PACF values outside of the [-1,1] interval. After 0.13, the default will change tounadjusted Yule-Walker ('ywm'). You can use this method now by setting method='ywm'.\n",
      "  warnings.warn(\n",
      "C:\\Users\\sharv\\anaconda3\\lib\\site-packages\\statsmodels\\tsa\\base\\tsa_model.py:471: ValueWarning: An unsupported index was provided and will be ignored when e.g. forecasting.\n",
      "  self._init_dates(dates, freq)\n",
      "C:\\Users\\sharv\\anaconda3\\lib\\site-packages\\statsmodels\\tsa\\base\\tsa_model.py:471: ValueWarning: An unsupported index was provided and will be ignored when e.g. forecasting.\n",
      "  self._init_dates(dates, freq)\n",
      "C:\\Users\\sharv\\anaconda3\\lib\\site-packages\\statsmodels\\tsa\\base\\tsa_model.py:471: ValueWarning: An unsupported index was provided and will be ignored when e.g. forecasting.\n",
      "  self._init_dates(dates, freq)\n",
      "C:\\Users\\sharv\\anaconda3\\lib\\site-packages\\statsmodels\\tsa\\base\\tsa_model.py:834: ValueWarning: No supported index is available. Prediction results will be given with an integer index beginning at `start`.\n",
      "  return get_prediction_index(\n",
      "C:\\Users\\sharv\\anaconda3\\lib\\site-packages\\statsmodels\\tsa\\base\\tsa_model.py:471: ValueWarning: An unsupported index was provided and will be ignored when e.g. forecasting.\n",
      "  self._init_dates(dates, freq)\n",
      "C:\\Users\\sharv\\anaconda3\\lib\\site-packages\\statsmodels\\tsa\\base\\tsa_model.py:471: ValueWarning: An unsupported index was provided and will be ignored when e.g. forecasting.\n",
      "  self._init_dates(dates, freq)\n",
      "C:\\Users\\sharv\\anaconda3\\lib\\site-packages\\statsmodels\\tsa\\base\\tsa_model.py:471: ValueWarning: An unsupported index was provided and will be ignored when e.g. forecasting.\n",
      "  self._init_dates(dates, freq)\n",
      "C:\\Users\\sharv\\anaconda3\\lib\\site-packages\\statsmodels\\tsa\\base\\tsa_model.py:834: ValueWarning: No supported index is available. Prediction results will be given with an integer index beginning at `start`.\n",
      "  return get_prediction_index(\n",
      "C:\\Users\\sharv\\anaconda3\\lib\\site-packages\\statsmodels\\tsa\\base\\tsa_model.py:834: ValueWarning: No supported index is available. Prediction results will be given with an integer index beginning at `start`.\n",
      "  return get_prediction_index(\n",
      "C:\\Users\\sharv\\anaconda3\\lib\\site-packages\\statsmodels\\tsa\\base\\tsa_model.py:471: ValueWarning: An unsupported index was provided and will be ignored when e.g. forecasting.\n",
      "  self._init_dates(dates, freq)\n",
      "C:\\Users\\sharv\\anaconda3\\lib\\site-packages\\statsmodels\\tsa\\base\\tsa_model.py:834: ValueWarning: No supported index is available. Prediction results will be given with an integer index beginning at `start`.\n",
      "  return get_prediction_index(\n",
      "C:\\Users\\sharv\\anaconda3\\lib\\site-packages\\statsmodels\\tsa\\base\\tsa_model.py:834: ValueWarning: No supported index is available. Prediction results will be given with an integer index beginning at `start`.\n",
      "  return get_prediction_index(\n",
      "C:\\Users\\sharv\\anaconda3\\lib\\site-packages\\statsmodels\\tsa\\base\\tsa_model.py:834: ValueWarning: No supported index is available. Prediction results will be given with an integer index beginning at `start`.\n",
      "  return get_prediction_index(\n"
     ]
    },
    {
     "data": {
      "image/png": "[encoded data removed]",
      "text/plain": [
       "<Figure size 432x288 with 1 Axes>"
      ]
     },
     "metadata": {
      "needs_background": "light"
     },
     "output_type": "display_data"
    },
    {
     "data": {
      "image/png": "[encoded data removed]",
      "text/plain": [
       "<Figure size 432x288 with 1 Axes>"
      ]
     },
     "metadata": {
      "needs_background": "light"
     },
     "output_type": "display_data"
    }
   ],
   "source": [
    "# Result for region WECC\n",
    "df_wecc = filter_df[(filter_df['region']=='WECC')]\n",
    "models_with_evaluation(df_wecc, 'WECC')"
   ]
  },
  {
   "cell_type": "code",
   "execution_count": 11,
   "id": "e78f1d1e",
   "metadata": {},
   "outputs": [
    {
     "name": "stderr",
     "output_type": "stream",
     "text": [
      "C:\\Users\\sharv\\anaconda3\\lib\\site-packages\\statsmodels\\graphics\\tsaplots.py:348: FutureWarning: The default method 'yw' can produce PACF values outside of the [-1,1] interval. After 0.13, the default will change tounadjusted Yule-Walker ('ywm'). You can use this method now by setting method='ywm'.\n",
      "  warnings.warn(\n",
      "C:\\Users\\sharv\\anaconda3\\lib\\site-packages\\statsmodels\\tsa\\base\\tsa_model.py:471: ValueWarning: An unsupported index was provided and will be ignored when e.g. forecasting.\n",
      "  self._init_dates(dates, freq)\n",
      "C:\\Users\\sharv\\anaconda3\\lib\\site-packages\\statsmodels\\tsa\\base\\tsa_model.py:471: ValueWarning: An unsupported index was provided and will be ignored when e.g. forecasting.\n",
      "  self._init_dates(dates, freq)\n",
      "C:\\Users\\sharv\\anaconda3\\lib\\site-packages\\statsmodels\\tsa\\base\\tsa_model.py:471: ValueWarning: An unsupported index was provided and will be ignored when e.g. forecasting.\n",
      "  self._init_dates(dates, freq)\n",
      "C:\\Users\\sharv\\anaconda3\\lib\\site-packages\\statsmodels\\tsa\\base\\tsa_model.py:834: ValueWarning: No supported index is available. Prediction results will be given with an integer index beginning at `start`.\n",
      "  return get_prediction_index(\n",
      "C:\\Users\\sharv\\anaconda3\\lib\\site-packages\\statsmodels\\tsa\\base\\tsa_model.py:471: ValueWarning: An unsupported index was provided and will be ignored when e.g. forecasting.\n",
      "  self._init_dates(dates, freq)\n",
      "C:\\Users\\sharv\\anaconda3\\lib\\site-packages\\statsmodels\\tsa\\base\\tsa_model.py:471: ValueWarning: An unsupported index was provided and will be ignored when e.g. forecasting.\n",
      "  self._init_dates(dates, freq)\n",
      "C:\\Users\\sharv\\anaconda3\\lib\\site-packages\\statsmodels\\tsa\\base\\tsa_model.py:471: ValueWarning: An unsupported index was provided and will be ignored when e.g. forecasting.\n",
      "  self._init_dates(dates, freq)\n",
      "C:\\Users\\sharv\\anaconda3\\lib\\site-packages\\statsmodels\\tsa\\base\\tsa_model.py:834: ValueWarning: No supported index is available. Prediction results will be given with an integer index beginning at `start`.\n",
      "  return get_prediction_index(\n",
      "C:\\Users\\sharv\\anaconda3\\lib\\site-packages\\statsmodels\\tsa\\base\\tsa_model.py:834: ValueWarning: No supported index is available. Prediction results will be given with an integer index beginning at `start`.\n",
      "  return get_prediction_index(\n",
      "C:\\Users\\sharv\\anaconda3\\lib\\site-packages\\statsmodels\\tsa\\base\\tsa_model.py:471: ValueWarning: An unsupported index was provided and will be ignored when e.g. forecasting.\n",
      "  self._init_dates(dates, freq)\n",
      "C:\\Users\\sharv\\anaconda3\\lib\\site-packages\\statsmodels\\tsa\\base\\tsa_model.py:834: ValueWarning: No supported index is available. Prediction results will be given with an integer index beginning at `start`.\n",
      "  return get_prediction_index(\n",
      "C:\\Users\\sharv\\anaconda3\\lib\\site-packages\\statsmodels\\tsa\\base\\tsa_model.py:834: ValueWarning: No supported index is available. Prediction results will be given with an integer index beginning at `start`.\n",
      "  return get_prediction_index(\n",
      "C:\\Users\\sharv\\anaconda3\\lib\\site-packages\\statsmodels\\tsa\\base\\tsa_model.py:834: ValueWarning: No supported index is available. Prediction results will be given with an integer index beginning at `start`.\n",
      "  return get_prediction_index(\n"
     ]
    },
    {
     "data": {
      "image/png": "[encoded data removed]",
      "text/plain": [
       "<Figure size 432x288 with 1 Axes>"
      ]
     },
     "metadata": {
      "needs_background": "light"
     },
     "output_type": "display_data"
    },
    {
     "data": {
      "image/png": "[encoded data removed]",
      "text/plain": [
       "<Figure size 432x288 with 1 Axes>"
      ]
     },
     "metadata": {
      "needs_background": "light"
     },
     "output_type": "display_data"
    }
   ],
   "source": [
    "# Result for region NPCC\n",
    "df_npcc = filter_df[(filter_df['region']=='NPCC')]\n",
    "models_with_evaluation(df_npcc, 'NPCC')"
   ]
  },
  {
   "cell_type": "code",
   "execution_count": 12,
   "id": "e190acef",
   "metadata": {},
   "outputs": [
    {
     "name": "stderr",
     "output_type": "stream",
     "text": [
      "C:\\Users\\sharv\\anaconda3\\lib\\site-packages\\statsmodels\\graphics\\tsaplots.py:348: FutureWarning: The default method 'yw' can produce PACF values outside of the [-1,1] interval. After 0.13, the default will change tounadjusted Yule-Walker ('ywm'). You can use this method now by setting method='ywm'.\n",
      "  warnings.warn(\n",
      "C:\\Users\\sharv\\anaconda3\\lib\\site-packages\\statsmodels\\tsa\\base\\tsa_model.py:471: ValueWarning: An unsupported index was provided and will be ignored when e.g. forecasting.\n",
      "  self._init_dates(dates, freq)\n",
      "C:\\Users\\sharv\\anaconda3\\lib\\site-packages\\statsmodels\\tsa\\base\\tsa_model.py:471: ValueWarning: An unsupported index was provided and will be ignored when e.g. forecasting.\n",
      "  self._init_dates(dates, freq)\n",
      "C:\\Users\\sharv\\anaconda3\\lib\\site-packages\\statsmodels\\tsa\\base\\tsa_model.py:471: ValueWarning: An unsupported index was provided and will be ignored when e.g. forecasting.\n",
      "  self._init_dates(dates, freq)\n",
      "C:\\Users\\sharv\\anaconda3\\lib\\site-packages\\statsmodels\\tsa\\base\\tsa_model.py:834: ValueWarning: No supported index is available. Prediction results will be given with an integer index beginning at `start`.\n",
      "  return get_prediction_index(\n",
      "C:\\Users\\sharv\\anaconda3\\lib\\site-packages\\statsmodels\\tsa\\base\\tsa_model.py:471: ValueWarning: An unsupported index was provided and will be ignored when e.g. forecasting.\n",
      "  self._init_dates(dates, freq)\n",
      "C:\\Users\\sharv\\anaconda3\\lib\\site-packages\\statsmodels\\tsa\\base\\tsa_model.py:471: ValueWarning: An unsupported index was provided and will be ignored when e.g. forecasting.\n",
      "  self._init_dates(dates, freq)\n",
      "C:\\Users\\sharv\\anaconda3\\lib\\site-packages\\statsmodels\\tsa\\base\\tsa_model.py:471: ValueWarning: An unsupported index was provided and will be ignored when e.g. forecasting.\n",
      "  self._init_dates(dates, freq)\n",
      "C:\\Users\\sharv\\anaconda3\\lib\\site-packages\\statsmodels\\tsa\\base\\tsa_model.py:834: ValueWarning: No supported index is available. Prediction results will be given with an integer index beginning at `start`.\n",
      "  return get_prediction_index(\n",
      "C:\\Users\\sharv\\anaconda3\\lib\\site-packages\\statsmodels\\tsa\\base\\tsa_model.py:834: ValueWarning: No supported index is available. Prediction results will be given with an integer index beginning at `start`.\n",
      "  return get_prediction_index(\n",
      "C:\\Users\\sharv\\anaconda3\\lib\\site-packages\\statsmodels\\tsa\\base\\tsa_model.py:471: ValueWarning: An unsupported index was provided and will be ignored when e.g. forecasting.\n",
      "  self._init_dates(dates, freq)\n",
      "C:\\Users\\sharv\\anaconda3\\lib\\site-packages\\statsmodels\\tsa\\base\\tsa_model.py:834: ValueWarning: No supported index is available. Prediction results will be given with an integer index beginning at `start`.\n",
      "  return get_prediction_index(\n",
      "C:\\Users\\sharv\\anaconda3\\lib\\site-packages\\statsmodels\\tsa\\base\\tsa_model.py:834: ValueWarning: No supported index is available. Prediction results will be given with an integer index beginning at `start`.\n",
      "  return get_prediction_index(\n",
      "C:\\Users\\sharv\\anaconda3\\lib\\site-packages\\statsmodels\\tsa\\base\\tsa_model.py:834: ValueWarning: No supported index is available. Prediction results will be given with an integer index beginning at `start`.\n",
      "  return get_prediction_index(\n"
     ]
    },
    {
     "data": {
      "image/png": "[encoded data removed]",
      "text/plain": [
       "<Figure size 432x288 with 1 Axes>"
      ]
     },
     "metadata": {
      "needs_background": "light"
     },
     "output_type": "display_data"
    },
    {
     "data": {
      "image/png": "[encoded data removed]",
      "text/plain": [
       "<Figure size 432x288 with 1 Axes>"
      ]
     },
     "metadata": {
      "needs_background": "light"
     },
     "output_type": "display_data"
    }
   ],
   "source": [
    "# Result for region MRO\n",
    "df_mro = filter_df[(filter_df['region']=='MRO')]\n",
    "models_with_evaluation(df_mro, 'MRO')"
   ]
  },
  {
   "cell_type": "code",
   "execution_count": 13,
   "id": "00fa4ae7",
   "metadata": {},
   "outputs": [
    {
     "name": "stderr",
     "output_type": "stream",
     "text": [
      "C:\\Users\\sharv\\anaconda3\\lib\\site-packages\\statsmodels\\graphics\\tsaplots.py:348: FutureWarning: The default method 'yw' can produce PACF values outside of the [-1,1] interval. After 0.13, the default will change tounadjusted Yule-Walker ('ywm'). You can use this method now by setting method='ywm'.\n",
      "  warnings.warn(\n",
      "C:\\Users\\sharv\\anaconda3\\lib\\site-packages\\statsmodels\\tsa\\base\\tsa_model.py:471: ValueWarning: An unsupported index was provided and will be ignored when e.g. forecasting.\n",
      "  self._init_dates(dates, freq)\n",
      "C:\\Users\\sharv\\anaconda3\\lib\\site-packages\\statsmodels\\tsa\\base\\tsa_model.py:471: ValueWarning: An unsupported index was provided and will be ignored when e.g. forecasting.\n",
      "  self._init_dates(dates, freq)\n",
      "C:\\Users\\sharv\\anaconda3\\lib\\site-packages\\statsmodels\\tsa\\base\\tsa_model.py:471: ValueWarning: An unsupported index was provided and will be ignored when e.g. forecasting.\n",
      "  self._init_dates(dates, freq)\n",
      "C:\\Users\\sharv\\anaconda3\\lib\\site-packages\\statsmodels\\tsa\\base\\tsa_model.py:834: ValueWarning: No supported index is available. Prediction results will be given with an integer index beginning at `start`.\n",
      "  return get_prediction_index(\n",
      "C:\\Users\\sharv\\anaconda3\\lib\\site-packages\\statsmodels\\tsa\\base\\tsa_model.py:471: ValueWarning: An unsupported index was provided and will be ignored when e.g. forecasting.\n",
      "  self._init_dates(dates, freq)\n",
      "C:\\Users\\sharv\\anaconda3\\lib\\site-packages\\statsmodels\\tsa\\base\\tsa_model.py:471: ValueWarning: An unsupported index was provided and will be ignored when e.g. forecasting.\n",
      "  self._init_dates(dates, freq)\n",
      "C:\\Users\\sharv\\anaconda3\\lib\\site-packages\\statsmodels\\tsa\\base\\tsa_model.py:471: ValueWarning: An unsupported index was provided and will be ignored when e.g. forecasting.\n",
      "  self._init_dates(dates, freq)\n",
      "C:\\Users\\sharv\\anaconda3\\lib\\site-packages\\statsmodels\\tsa\\base\\tsa_model.py:834: ValueWarning: No supported index is available. Prediction results will be given with an integer index beginning at `start`.\n",
      "  return get_prediction_index(\n",
      "C:\\Users\\sharv\\anaconda3\\lib\\site-packages\\statsmodels\\tsa\\base\\tsa_model.py:834: ValueWarning: No supported index is available. Prediction results will be given with an integer index beginning at `start`.\n",
      "  return get_prediction_index(\n",
      "C:\\Users\\sharv\\anaconda3\\lib\\site-packages\\statsmodels\\tsa\\base\\tsa_model.py:471: ValueWarning: An unsupported index was provided and will be ignored when e.g. forecasting.\n",
      "  self._init_dates(dates, freq)\n",
      "C:\\Users\\sharv\\anaconda3\\lib\\site-packages\\statsmodels\\tsa\\base\\tsa_model.py:834: ValueWarning: No supported index is available. Prediction results will be given with an integer index beginning at `start`.\n",
      "  return get_prediction_index(\n",
      "C:\\Users\\sharv\\anaconda3\\lib\\site-packages\\statsmodels\\tsa\\base\\tsa_model.py:834: ValueWarning: No supported index is available. Prediction results will be given with an integer index beginning at `start`.\n",
      "  return get_prediction_index(\n",
      "C:\\Users\\sharv\\anaconda3\\lib\\site-packages\\statsmodels\\tsa\\base\\tsa_model.py:834: ValueWarning: No supported index is available. Prediction results will be given with an integer index beginning at `start`.\n",
      "  return get_prediction_index(\n"
     ]
    },
    {
     "data": {
      "image/png": "[encoded data removed]",
      "text/plain": [
       "<Figure size 432x288 with 1 Axes>"
      ]
     },
     "metadata": {
      "needs_background": "light"
     },
     "output_type": "display_data"
    },
    {
     "data": {
      "image/png": "[encoded data removed]",
      "text/plain": [
       "<Figure size 432x288 with 1 Axes>"
      ]
     },
     "metadata": {
      "needs_background": "light"
     },
     "output_type": "display_data"
    }
   ],
   "source": [
    "# Result for region TX\n",
    "df_tx = filter_df[(filter_df['region']=='TX')]\n",
    "models_with_evaluation(df_tx, 'TX')"
   ]
  },
  {
   "cell_type": "code",
   "execution_count": 14,
   "id": "1c6000b6",
   "metadata": {
    "scrolled": true
   },
   "outputs": [],
   "source": [
    "evaluation_df.to_excel(\"evaluation.xlsx\")"
   ]
  },
  {
   "cell_type": "code",
   "execution_count": null,
   "id": "850fa1dd",
   "metadata": {},
   "outputs": [],
   "source": [
    "def models_with_evaluation(df, region): \n",
    "    #plot time series graph\n",
    "    #data_exploration_plot(df)\n",
    "    df_train = df[(df['period']<= 2012)]\n",
    "    df_test = df[df['period']>2012]\n",
    "    values = df_train['value']\n",
    "    values_test = df_test['value']\n",
    "    #plotting acf graph \n",
    "    plot_acf(values)\n",
    "    #plotting pacf graph\n",
    "    plot_pacf(values)\n",
    "    #Training ARIMA(1,0,0) i.e Autoregressor model \n",
    "    model1 = ARIMA_train(values, 1,0,0)\n",
    "    evaluation_df['ARIMA(1,0,0)_'+ region] = evaluation_metric(values_test,model1.forecast(len(values_test)))\n",
    "    #print(\"Summary of ARIMA(1,0,0)\")\n",
    "    #print(model1.summary())\n",
    "    #Training ARIMA(0,0,4) i.e.Moving Average model \n",
    "    model2 = ARIMA_train(values,0,0,2)\n",
    "    evaluation_df['ARIMA(0,0,2)_'+ region] = evaluation_metric(values_test,model2.forecast(len(values_test)))\n",
    "    #print(\"Summary of ARIMA(0,0,2)\")\n",
    "    #print(model2.summary())\n",
    "    #Training Auto ARIMA \n",
    "    model3 = pm.auto_arima(values, stepwise = False, seasonal = False)\n",
    "    model_selected = model3.get_params()['order']\n",
    "    model_string = \"(\" + \", \".join(map(str, model_selected)) + \")\"\n",
    "    evaluation_df['ARIMA'+model_string+'_'+region] = evaluation_metric(values_test,model3.predict(n_periods =len(values_test)))\n",
    "    #print(\"Summary of Auto-ARIMA model\")\n",
    "    #print(model3.summary())\n",
    "    model4 = SimpleExpSmoothing(values)\n",
    "    evaluation_df['ES_level_none_'+region] = evaluation_metric(values_test, model4.fit().forecast(len(values_test)))\n",
    "    evaluation_df['ES_level_0.2_'+region] = evaluation_metric(values_test, model4.fit(smoothing_level=.2).forecast(len(values_test)))\n",
    "    evaluation_df['ES_level_0.5_'+region] = evaluation_metric(values_test, model4.fit(smoothing_level=.5).forecast(len(values_test)))\n",
    "    "
   ]
  },
  {
   "cell_type": "code",
   "execution_count": 25,
   "id": "0b6d3422",
   "metadata": {},
   "outputs": [
    {
     "name": "stderr",
     "output_type": "stream",
     "text": [
      "C:\\Users\\sharv\\anaconda3\\lib\\site-packages\\statsmodels\\tsa\\base\\tsa_model.py:471: ValueWarning: An unsupported index was provided and will be ignored when e.g. forecasting.\n",
      "  self._init_dates(dates, freq)\n",
      "C:\\Users\\sharv\\anaconda3\\lib\\site-packages\\statsmodels\\tsa\\base\\tsa_model.py:834: ValueWarning: No supported index is available. Prediction results will be given with an integer index beginning at `start`.\n",
      "  return get_prediction_index(\n",
      "C:\\Users\\sharv\\AppData\\Local\\Temp\\ipykernel_16580\\2774544259.py:3: SettingWithCopyWarning: \n",
      "A value is trying to be set on a copy of a slice from a DataFrame.\n",
      "Try using .loc[row_indexer,col_indexer] = value instead\n",
      "\n",
      "See the caveats in the documentation: https://pandas.pydata.org/pandas-docs/stable/user_guide/indexing.html#returning-a-view-versus-a-copy\n",
      "  df_serc['ES_level_0.2_SERC'] = [None]*len(df_serc[df_serc['period']<=2012]['value']) + result_serc.to_list()\n"
     ]
    }
   ],
   "source": [
    "#SERC model selected \n",
    "result_serc = SimpleExpSmoothing(df_serc[df_serc['period']<=2012]['value']).fit(smoothing_level=.2).forecast(len(df_serc[df_serc['period']>2012]['value']))\n",
    "df_serc['ES_level_0.2_SERC'] = [None]*len(df_serc[df_serc['period']<=2012]['value']) + result_serc.to_list()\n",
    "#df_serc.to_csv(\"SERC.csv\")"
   ]
  },
  {
   "cell_type": "code",
   "execution_count": 29,
   "id": "b0ec3459",
   "metadata": {},
   "outputs": [
    {
     "name": "stderr",
     "output_type": "stream",
     "text": [
      "C:\\Users\\sharv\\anaconda3\\lib\\site-packages\\statsmodels\\tsa\\base\\tsa_model.py:471: ValueWarning: An unsupported index was provided and will be ignored when e.g. forecasting.\n",
      "  self._init_dates(dates, freq)\n",
      "C:\\Users\\sharv\\anaconda3\\lib\\site-packages\\statsmodels\\tsa\\base\\tsa_model.py:471: ValueWarning: An unsupported index was provided and will be ignored when e.g. forecasting.\n",
      "  self._init_dates(dates, freq)\n",
      "C:\\Users\\sharv\\anaconda3\\lib\\site-packages\\statsmodels\\tsa\\base\\tsa_model.py:471: ValueWarning: An unsupported index was provided and will be ignored when e.g. forecasting.\n",
      "  self._init_dates(dates, freq)\n",
      "C:\\Users\\sharv\\anaconda3\\lib\\site-packages\\statsmodels\\tsa\\base\\tsa_model.py:834: ValueWarning: No supported index is available. Prediction results will be given with an integer index beginning at `start`.\n",
      "  return get_prediction_index(\n",
      "C:\\Users\\sharv\\AppData\\Local\\Temp\\ipykernel_16580\\3354727246.py:4: SettingWithCopyWarning: \n",
      "A value is trying to be set on a copy of a slice from a DataFrame.\n",
      "Try using .loc[row_indexer,col_indexer] = value instead\n",
      "\n",
      "See the caveats in the documentation: https://pandas.pydata.org/pandas-docs/stable/user_guide/indexing.html#returning-a-view-versus-a-copy\n",
      "  df_rfc['ARIMA(0,0,2)_RFC'] =  [None]*len(df_rfc[df_rfc['period']<=2012]['value']) + result_rfc.to_list()\n"
     ]
    }
   ],
   "source": [
    "# RFC model selected \n",
    "model_rfc = ARIMA_train(df_rfc[df_rfc['period']<=2012]['value'],0,0,2)\n",
    "result_rfc = model_rfc.forecast(len(df_rfc[df_rfc['period']>2012]['value']))\n",
    "df_rfc['ARIMA(0,0,2)_RFC'] =  [None]*len(df_rfc[df_rfc['period']<=2012]['value']) + result_rfc.to_list()\n",
    "#df_rfc.tail(15)"
   ]
  },
  {
   "cell_type": "code",
   "execution_count": 33,
   "id": "ab5df6ca",
   "metadata": {},
   "outputs": [
    {
     "name": "stderr",
     "output_type": "stream",
     "text": [
      "C:\\Users\\sharv\\anaconda3\\lib\\site-packages\\statsmodels\\tsa\\base\\tsa_model.py:471: ValueWarning: An unsupported index was provided and will be ignored when e.g. forecasting.\n",
      "  self._init_dates(dates, freq)\n",
      "C:\\Users\\sharv\\anaconda3\\lib\\site-packages\\statsmodels\\tsa\\base\\tsa_model.py:834: ValueWarning: No supported index is available. Prediction results will be given with an integer index beginning at `start`.\n",
      "  return get_prediction_index(\n",
      "C:\\Users\\sharv\\AppData\\Local\\Temp\\ipykernel_16580\\2517048517.py:3: SettingWithCopyWarning: \n",
      "A value is trying to be set on a copy of a slice from a DataFrame.\n",
      "Try using .loc[row_indexer,col_indexer] = value instead\n",
      "\n",
      "See the caveats in the documentation: https://pandas.pydata.org/pandas-docs/stable/user_guide/indexing.html#returning-a-view-versus-a-copy\n",
      "  df_wecc['ES_level_0.5_WECC'] = [None]*len(df_wecc[df_wecc['period']<=2012]['value']) + result_wecc.to_list()\n"
     ]
    }
   ],
   "source": [
    "#WECC model selection \n",
    "result_wecc = SimpleExpSmoothing(df_wecc[df_wecc['period']<=2012]['value']).fit(smoothing_level=.5).forecast(len(df_wecc[df_wecc['period']>2012]['value']))\n",
    "df_wecc['ES_level_0.5_WECC'] = [None]*len(df_wecc[df_wecc['period']<=2012]['value']) + result_wecc.to_list()\n",
    "#df_wecc.head()"
   ]
  },
  {
   "cell_type": "code",
   "execution_count": 34,
   "id": "2f7bbaf3",
   "metadata": {},
   "outputs": [
    {
     "name": "stderr",
     "output_type": "stream",
     "text": [
      "C:\\Users\\sharv\\anaconda3\\lib\\site-packages\\statsmodels\\tsa\\base\\tsa_model.py:471: ValueWarning: An unsupported index was provided and will be ignored when e.g. forecasting.\n",
      "  self._init_dates(dates, freq)\n",
      "C:\\Users\\sharv\\anaconda3\\lib\\site-packages\\statsmodels\\tsa\\base\\tsa_model.py:471: ValueWarning: An unsupported index was provided and will be ignored when e.g. forecasting.\n",
      "  self._init_dates(dates, freq)\n",
      "C:\\Users\\sharv\\anaconda3\\lib\\site-packages\\statsmodels\\tsa\\base\\tsa_model.py:471: ValueWarning: An unsupported index was provided and will be ignored when e.g. forecasting.\n",
      "  self._init_dates(dates, freq)\n",
      "C:\\Users\\sharv\\anaconda3\\lib\\site-packages\\statsmodels\\tsa\\base\\tsa_model.py:834: ValueWarning: No supported index is available. Prediction results will be given with an integer index beginning at `start`.\n",
      "  return get_prediction_index(\n",
      "C:\\Users\\sharv\\AppData\\Local\\Temp\\ipykernel_16580\\1448210418.py:4: SettingWithCopyWarning: \n",
      "A value is trying to be set on a copy of a slice from a DataFrame.\n",
      "Try using .loc[row_indexer,col_indexer] = value instead\n",
      "\n",
      "See the caveats in the documentation: https://pandas.pydata.org/pandas-docs/stable/user_guide/indexing.html#returning-a-view-versus-a-copy\n",
      "  df_npcc['ARIMA(1,0,1)_NPCC'] =  [None]*len(df_npcc[df_npcc['period']<=2012]['value']) + result_npcc.to_list()\n"
     ]
    }
   ],
   "source": [
    "#NPCC model selection \n",
    "model_npcc = ARIMA_train(df_npcc[df_npcc['period']<=2012]['value'],1,0,1)\n",
    "result_npcc = model_npcc.forecast(len(df_npcc[df_npcc['period']>2012]['value']))\n",
    "df_npcc['ARIMA(1,0,1)_NPCC'] =  [None]*len(df_npcc[df_npcc['period']<=2012]['value']) + result_npcc.to_list()\n",
    "#df_npcc.head()"
   ]
  },
  {
   "cell_type": "code",
   "execution_count": 37,
   "id": "0c908873",
   "metadata": {},
   "outputs": [
    {
     "name": "stderr",
     "output_type": "stream",
     "text": [
      "C:\\Users\\sharv\\anaconda3\\lib\\site-packages\\statsmodels\\tsa\\base\\tsa_model.py:471: ValueWarning: An unsupported index was provided and will be ignored when e.g. forecasting.\n",
      "  self._init_dates(dates, freq)\n",
      "C:\\Users\\sharv\\anaconda3\\lib\\site-packages\\statsmodels\\tsa\\base\\tsa_model.py:834: ValueWarning: No supported index is available. Prediction results will be given with an integer index beginning at `start`.\n",
      "  return get_prediction_index(\n",
      "C:\\Users\\sharv\\AppData\\Local\\Temp\\ipykernel_16580\\2546787960.py:3: SettingWithCopyWarning: \n",
      "A value is trying to be set on a copy of a slice from a DataFrame.\n",
      "Try using .loc[row_indexer,col_indexer] = value instead\n",
      "\n",
      "See the caveats in the documentation: https://pandas.pydata.org/pandas-docs/stable/user_guide/indexing.html#returning-a-view-versus-a-copy\n",
      "  df_mro['ES_level_none_MRO'] = [None]*len(df_mro[df_mro['period']<=2012]['value']) + result_mro.to_list()\n"
     ]
    }
   ],
   "source": [
    "#MRO model selection \n",
    "result_mro = SimpleExpSmoothing(df_mro[df_mro['period']<=2012]['value']).fit().forecast(len(df_mro[df_mro['period']>2012]['value']))\n",
    "df_mro['ES_level_none_MRO'] = [None]*len(df_mro[df_mro['period']<=2012]['value']) + result_mro.to_list()\n"
   ]
  },
  {
   "cell_type": "code",
   "execution_count": 39,
   "id": "5c951250",
   "metadata": {
    "scrolled": true
   },
   "outputs": [
    {
     "name": "stderr",
     "output_type": "stream",
     "text": [
      "C:\\Users\\sharv\\anaconda3\\lib\\site-packages\\statsmodels\\tsa\\base\\tsa_model.py:471: ValueWarning: An unsupported index was provided and will be ignored when e.g. forecasting.\n",
      "  self._init_dates(dates, freq)\n",
      "C:\\Users\\sharv\\anaconda3\\lib\\site-packages\\statsmodels\\tsa\\base\\tsa_model.py:471: ValueWarning: An unsupported index was provided and will be ignored when e.g. forecasting.\n",
      "  self._init_dates(dates, freq)\n",
      "C:\\Users\\sharv\\anaconda3\\lib\\site-packages\\statsmodels\\tsa\\base\\tsa_model.py:471: ValueWarning: An unsupported index was provided and will be ignored when e.g. forecasting.\n",
      "  self._init_dates(dates, freq)\n",
      "C:\\Users\\sharv\\anaconda3\\lib\\site-packages\\statsmodels\\tsa\\base\\tsa_model.py:834: ValueWarning: No supported index is available. Prediction results will be given with an integer index beginning at `start`.\n",
      "  return get_prediction_index(\n",
      "C:\\Users\\sharv\\AppData\\Local\\Temp\\ipykernel_16580\\1365576203.py:4: SettingWithCopyWarning: \n",
      "A value is trying to be set on a copy of a slice from a DataFrame.\n",
      "Try using .loc[row_indexer,col_indexer] = value instead\n",
      "\n",
      "See the caveats in the documentation: https://pandas.pydata.org/pandas-docs/stable/user_guide/indexing.html#returning-a-view-versus-a-copy\n",
      "  df_tx['ARIMA(0,0,2)_TX'] =  [None]*len(df_tx[df_tx['period']<=2012]['value']) + result_tx.to_list()\n"
     ]
    }
   ],
   "source": [
    "# TX model selected \n",
    "model_tx = ARIMA_train(df_tx[df_tx['period']<=2012]['value'],0,0,2)\n",
    "result_tx = model_tx.forecast(len(df_tx[df_tx['period']>2012]['value']))\n",
    "df_tx['ARIMA(0,0,2)_TX'] =  [None]*len(df_tx[df_tx['period']<=2012]['value']) + result_tx.to_list()"
   ]
  },
  {
   "cell_type": "code",
   "execution_count": 49,
   "id": "731bc799",
   "metadata": {},
   "outputs": [
    {
     "name": "stderr",
     "output_type": "stream",
     "text": [
      "C:\\Users\\sharv\\AppData\\Local\\Temp\\ipykernel_16580\\3980524072.py:1: FutureWarning: The frame.append method is deprecated and will be removed from pandas in a future version. Use pandas.concat instead.\n",
      "  df_output = df_serc.append(df_rfc)\n",
      "C:\\Users\\sharv\\AppData\\Local\\Temp\\ipykernel_16580\\3980524072.py:2: FutureWarning: The frame.append method is deprecated and will be removed from pandas in a future version. Use pandas.concat instead.\n",
      "  df_output = df_output.append(df_wecc)\n",
      "C:\\Users\\sharv\\AppData\\Local\\Temp\\ipykernel_16580\\3980524072.py:3: FutureWarning: The frame.append method is deprecated and will be removed from pandas in a future version. Use pandas.concat instead.\n",
      "  df_output = df_output.append(df_npcc)\n",
      "C:\\Users\\sharv\\AppData\\Local\\Temp\\ipykernel_16580\\3980524072.py:4: FutureWarning: The frame.append method is deprecated and will be removed from pandas in a future version. Use pandas.concat instead.\n",
      "  df_output = df_output.append(df_mro)\n",
      "C:\\Users\\sharv\\AppData\\Local\\Temp\\ipykernel_16580\\3980524072.py:5: FutureWarning: The frame.append method is deprecated and will be removed from pandas in a future version. Use pandas.concat instead.\n",
      "  df_output = df_output.append(df_tx)\n"
     ]
    }
   ],
   "source": [
    "df_output = df_serc.append(df_rfc)\n",
    "df_output = df_output.append(df_wecc)\n",
    "df_output = df_output.append(df_npcc)\n",
    "df_output = df_output.append(df_mro)\n",
    "df_output = df_output.append(df_tx)\n",
    "df_output.to_csv('output.csv')"
   ]
  },
  {
   "cell_type": "code",
   "execution_count": null,
   "id": "989d67cc",
   "metadata": {},
   "outputs": [],
   "source": []
  }
 ],
 "metadata": {
  "kernelspec": {
   "display_name": "Python 3 (ipykernel)",
   "language": "python",
   "name": "python3"
  },
  "language_info": {
   "codemirror_mode": {
    "name": "ipython",
    "version": 3
   },
   "file_extension": ".py",
   "mimetype": "text/x-python",
   "name": "python",
   "nbconvert_exporter": "python",
   "pygments_lexer": "ipython3",
   "version": "3.9.12"
  }
 },
 "nbformat": 4,
 "nbformat_minor": 5
}

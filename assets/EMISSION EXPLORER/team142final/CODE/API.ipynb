{
 "cells": [
  {
   "cell_type": "code",
   "execution_count": 1,
   "id": "8913951d",
   "metadata": {},
   "outputs": [],
   "source": [
    "import requests\n",
    "import pandas as pd\n",
    "from collections.abc import MutableMapping\n",
    "import statsmodels.api as sm"
   ]
  },
  {
   "cell_type": "code",
   "execution_count": 2,
   "id": "0fc3af45",
   "metadata": {},
   "outputs": [],
   "source": [
    "api_url = \"https://api.eia.gov/v2/co2-emissions/co2-emissions-and-carbon-coefficients/data/?frequency=annual&data[0]=emissions&start=1996&end=2018&sort[0][column]=period&sort[0][direction]=desc&offset=0&length=5000\"\n",
    "api_key = \"MUV4iHlt7MXWTmSLoeacvEKHRvtIcxS3CGmJwnTZ\"\n",
    "payload = {'api_key': api_key}\n",
    "url_with_api_key = f'{api_url}?api_key={api_key}'\n",
    "\n",
    "response = requests.get(api_url, params=payload)\n"
   ]
  },
  {
   "cell_type": "code",
   "execution_count": 3,
   "id": "f17747b6",
   "metadata": {},
   "outputs": [],
   "source": [
    "if response.status_code == 200:\n",
    "    api_data = response.json()\n"
   ]
  },
  {
   "cell_type": "code",
   "execution_count": 4,
   "id": "e6810030",
   "metadata": {},
   "outputs": [],
   "source": [
    "def flatten_dict(d: MutableMapping, sep: str= '.') -> MutableMapping:\n",
    "    [flat_dict] = pd.json_normalize(d, sep=sep).to_dict(orient='records')\n",
    "    return flat_dict"
   ]
  },
  {
   "cell_type": "code",
   "execution_count": 5,
   "id": "8dfac2ba",
   "metadata": {},
   "outputs": [],
   "source": [
    "df = flatten_dict(api_data)"
   ]
  },
  {
   "cell_type": "code",
   "execution_count": 6,
   "id": "0fe8690b",
   "metadata": {},
   "outputs": [],
   "source": [
    "nested_data = df['response.data']"
   ]
  },
  {
   "cell_type": "code",
   "execution_count": 7,
   "id": "16697dff",
   "metadata": {},
   "outputs": [],
   "source": [
    "df1 = pd.DataFrame(nested_data)"
   ]
  },
  {
   "cell_type": "code",
   "execution_count": 8,
   "id": "b225b0f5",
   "metadata": {},
   "outputs": [],
   "source": [
    "df1.to_csv(\"output_file.csv\", encoding='utf-8')"
   ]
  },
  {
   "cell_type": "code",
   "execution_count": 94,
   "id": "c68cb659",
   "metadata": {},
   "outputs": [],
   "source": [
    "api_url = \"https://api.eia.gov/v2/co2-emissions/co2-emissions-aggregates/data/?frequency=annual&data[0]=value&start=2013&end=2017&sort[0][column]=period&sort[0][direction]=desc&offset=0&length=5000\"\n",
    "api_key = \"MUV4iHlt7MXWTmSLoeacvEKHRvtIcxS3CGmJwnTZ\"\n",
    "payload = {'api_key': api_key}\n",
    "url_with_api_key = f'{api_url}?api_key={api_key}'\n",
    "\n",
    "response1 = requests.get(api_url, params=payload)\n",
    "if response1.status_code == 200:\n",
    "    api_data1 = response.json()\n",
    "def flatten_dict(d: MutableMapping, sep: str= '.') -> MutableMapping:\n",
    "    [flat_dict] = pd.json_normalize(d, sep=sep).to_dict(orient='records')\n",
    "    return flat_dict\n",
    "df = flatten_dict(api_data1)\n",
    "nested_data1 = df['response.data']\n",
    "df2 = pd.DataFrame(nested_data1)"
   ]
  },
  {
   "cell_type": "code",
   "execution_count": 95,
   "id": "5064d3f8",
   "metadata": {},
   "outputs": [],
   "source": [
    "df2.to_csv(\"output_file1.csv\", encoding='utf-8')"
   ]
  },
  {
   "cell_type": "code",
   "execution_count": 96,
   "id": "c77de8b0",
   "metadata": {},
   "outputs": [],
   "source": [
    "api_url = \"https://api.eia.gov/v2/co2-emissions/co2-emissions-aggregates/data/?frequency=annual&data[0]=value&start=2008&end=2012&sort[0][column]=period&sort[0][direction]=desc&offset=0&length=5000\"\n",
    "api_key = \"MUV4iHlt7MXWTmSLoeacvEKHRvtIcxS3CGmJwnTZ\"\n",
    "payload = {'api_key': api_key}\n",
    "url_with_api_key = f'{api_url}?api_key={api_key}'\n",
    "\n",
    "response1 = requests.get(api_url, params=payload)\n",
    "if response1.status_code == 200:\n",
    "    api_data1 = response.json()\n",
    "def flatten_dict(d: MutableMapping, sep: str= '.') -> MutableMapping:\n",
    "    [flat_dict] = pd.json_normalize(d, sep=sep).to_dict(orient='records')\n",
    "    return flat_dict\n",
    "df = flatten_dict(api_data1)\n",
    "nested_data1 = df['response.data']\n",
    "df3 = pd.DataFrame(nested_data1)"
   ]
  },
  {
   "cell_type": "code",
   "execution_count": 97,
   "id": "4450f2b3",
   "metadata": {},
   "outputs": [],
   "source": [
    "df3.to_csv(\"output_file2.csv\", encoding='utf-8')"
   ]
  },
  {
   "cell_type": "code",
   "execution_count": 98,
   "id": "88071fc7",
   "metadata": {},
   "outputs": [],
   "source": [
    "api_url = \"https://api.eia.gov/v2/co2-emissions/co2-emissions-aggregates/data/?frequency=annual&data[0]=value&start=2003&end=2007&sort[0][column]=period&sort[0][direction]=desc&offset=0&length=5000\"\n",
    "api_key = \"MUV4iHlt7MXWTmSLoeacvEKHRvtIcxS3CGmJwnTZ\"\n",
    "payload = {'api_key': api_key}\n",
    "url_with_api_key = f'{api_url}?api_key={api_key}'\n",
    "\n",
    "response1 = requests.get(api_url, params=payload)\n",
    "if response1.status_code == 200:\n",
    "    api_data1 = response.json()\n",
    "def flatten_dict(d: MutableMapping, sep: str= '.') -> MutableMapping:\n",
    "    [flat_dict] = pd.json_normalize(d, sep=sep).to_dict(orient='records')\n",
    "    return flat_dict\n",
    "df = flatten_dict(api_data1)\n",
    "nested_data1 = df['response.data']\n",
    "df4 = pd.DataFrame(nested_data1)"
   ]
  },
  {
   "cell_type": "code",
   "execution_count": 99,
   "id": "7e03bd3e",
   "metadata": {},
   "outputs": [],
   "source": [
    "df4.to_csv(\"output_file3.csv\", encoding='utf-8')"
   ]
  },
  {
   "cell_type": "code",
   "execution_count": 100,
   "id": "f2386ffd",
   "metadata": {},
   "outputs": [],
   "source": [
    "api_url = \"https://api.eia.gov/v2/co2-emissions/co2-emissions-aggregates/data/?frequency=annual&data[0]=value&start=1998&end=2002&sort[0][column]=period&sort[0][direction]=desc&offset=0&length=5000\"\n",
    "api_key = \"MUV4iHlt7MXWTmSLoeacvEKHRvtIcxS3CGmJwnTZ\"\n",
    "payload = {'api_key': api_key}\n",
    "url_with_api_key = f'{api_url}?api_key={api_key}'\n",
    "\n",
    "response1 = requests.get(api_url, params=payload)\n",
    "if response1.status_code == 200:\n",
    "    api_data1 = response.json()\n",
    "def flatten_dict(d: MutableMapping, sep: str= '.') -> MutableMapping:\n",
    "    [flat_dict] = pd.json_normalize(d, sep=sep).to_dict(orient='records')\n",
    "    return flat_dict\n",
    "df = flatten_dict(api_data1)\n",
    "nested_data1 = df['response.data']\n",
    "df5 = pd.DataFrame(nested_data1)"
   ]
  },
  {
   "cell_type": "code",
   "execution_count": 101,
   "id": "80aee1f5",
   "metadata": {},
   "outputs": [],
   "source": [
    "df5.to_csv(\"output_file4.csv\", encoding='utf-8')"
   ]
  },
  {
   "cell_type": "code",
   "execution_count": 102,
   "id": "f95aa583",
   "metadata": {},
   "outputs": [],
   "source": [
    "api_url = \"https://api.eia.gov/v2/co2-emissions/co2-emissions-aggregates/data/?frequency=annual&data[0]=value&start=1998&end=2002&sort[0][column]=period&sort[0][direction]=desc&offset=0&length=5000\"\n",
    "api_key = \"MUV4iHlt7MXWTmSLoeacvEKHRvtIcxS3CGmJwnTZ\"\n",
    "payload = {'api_key': api_key}\n",
    "url_with_api_key = f'{api_url}?api_key={api_key}'\n",
    "\n",
    "response1 = requests.get(api_url, params=payload)\n",
    "if response1.status_code == 200:\n",
    "    api_data1 = response.json()\n",
    "def flatten_dict(d: MutableMapping, sep: str= '.') -> MutableMapping:\n",
    "    [flat_dict] = pd.json_normalize(d, sep=sep).to_dict(orient='records')\n",
    "    return flat_dict\n",
    "df = flatten_dict(api_data1)\n",
    "nested_data1 = df['response.data']\n",
    "df6 = pd.DataFrame(nested_data1)"
   ]
  },
  {
   "cell_type": "code",
   "execution_count": 103,
   "id": "20f36201",
   "metadata": {},
   "outputs": [],
   "source": [
    "df6.to_csv(\"output_file5.csv\", encoding='utf-8')"
   ]
  },
  {
   "cell_type": "code",
   "execution_count": 104,
   "id": "cdd00b97",
   "metadata": {},
   "outputs": [],
   "source": [
    "api_url = \"https://api.eia.gov/v2/co2-emissions/co2-emissions-aggregates/data/?frequency=annual&data[0]=value&start=1993&end=1997&sort[0][column]=period&sort[0][direction]=desc&offset=0&length=5000\"\n",
    "api_key = \"MUV4iHlt7MXWTmSLoeacvEKHRvtIcxS3CGmJwnTZ\"\n",
    "payload = {'api_key': api_key}\n",
    "url_with_api_key = f'{api_url}?api_key={api_key}'\n",
    "\n",
    "response1 = requests.get(api_url, params=payload)\n",
    "if response1.status_code == 200:\n",
    "    api_data1 = response.json()\n",
    "def flatten_dict(d: MutableMapping, sep: str= '.') -> MutableMapping:\n",
    "    [flat_dict] = pd.json_normalize(d, sep=sep).to_dict(orient='records')\n",
    "    return flat_dict\n",
    "df = flatten_dict(api_data1)\n",
    "nested_data1 = df['response.data']\n",
    "df7 = pd.DataFrame(nested_data1)"
   ]
  },
  {
   "cell_type": "code",
   "execution_count": 105,
   "id": "ee4b3a90",
   "metadata": {},
   "outputs": [],
   "source": [
    "df7.to_csv(\"output_file6.csv\", encoding='utf-8')"
   ]
  },
  {
   "cell_type": "code",
   "execution_count": 106,
   "id": "0e8f08e9",
   "metadata": {},
   "outputs": [],
   "source": [
    "api_url = \"https://api.eia.gov/v2/co2-emissions/co2-emissions-aggregates/data/?frequency=annual&data[0]=value&start=1991&end=1992&sort[0][column]=period&sort[0][direction]=desc&offset=0&length=5000\"\n",
    "api_key = \"MUV4iHlt7MXWTmSLoeacvEKHRvtIcxS3CGmJwnTZ\"\n",
    "payload = {'api_key': api_key}\n",
    "url_with_api_key = f'{api_url}?api_key={api_key}'\n",
    "\n",
    "response1 = requests.get(api_url, params=payload)\n",
    "if response1.status_code == 200:\n",
    "    api_data1 = response.json()\n",
    "def flatten_dict(d: MutableMapping, sep: str= '.') -> MutableMapping:\n",
    "    [flat_dict] = pd.json_normalize(d, sep=sep).to_dict(orient='records')\n",
    "    return flat_dict\n",
    "df = flatten_dict(api_data1)\n",
    "nested_data1 = df['response.data']\n",
    "df8 = pd.DataFrame(nested_data1)"
   ]
  },
  {
   "cell_type": "code",
   "execution_count": 107,
   "id": "d3e1f030",
   "metadata": {},
   "outputs": [],
   "source": [
    "df8.to_csv(\"output_file7.csv\", encoding='utf-8')"
   ]
  },
  {
   "cell_type": "code",
   "execution_count": 118,
   "id": "d48d1042",
   "metadata": {},
   "outputs": [],
   "source": [
    "df1.to_csv(\"output_file.csv\", encoding='utf-8')"
   ]
  },
  {
   "cell_type": "code",
   "execution_count": 50,
   "id": "2709dafb",
   "metadata": {},
   "outputs": [
    {
     "ename": "KeyError",
     "evalue": "'Column not found: emissions'",
     "output_type": "error",
     "traceback": [
      "\u001b[1;31m---------------------------------------------------------------------------\u001b[0m",
      "\u001b[1;31mKeyError\u001b[0m                                  Traceback (most recent call last)",
      "Input \u001b[1;32mIn [50]\u001b[0m, in \u001b[0;36m<cell line: 1>\u001b[1;34m()\u001b[0m\n\u001b[1;32m----> 1\u001b[0m result_df \u001b[38;5;241m=\u001b[39m \u001b[43mdf1\u001b[49m\u001b[38;5;241;43m.\u001b[39;49m\u001b[43mgroupby\u001b[49m\u001b[43m(\u001b[49m\u001b[43mdf1\u001b[49m\u001b[43m[\u001b[49m\u001b[38;5;124;43m'\u001b[39;49m\u001b[38;5;124;43mperiod\u001b[39;49m\u001b[38;5;124;43m'\u001b[39;49m\u001b[43m]\u001b[49m\u001b[43m)\u001b[49m\u001b[43m[\u001b[49m\u001b[38;5;124;43m'\u001b[39;49m\u001b[38;5;124;43memissions\u001b[39;49m\u001b[38;5;124;43m'\u001b[39;49m\u001b[43m]\u001b[49m\u001b[38;5;241m.\u001b[39msum()\u001b[38;5;241m.\u001b[39mreset_index\n",
      "File \u001b[1;32m~\\anaconda3\\lib\\site-packages\\pandas\\core\\groupby\\generic.py:1338\u001b[0m, in \u001b[0;36mDataFrameGroupBy.__getitem__\u001b[1;34m(self, key)\u001b[0m\n\u001b[0;32m   1329\u001b[0m \u001b[38;5;28;01mif\u001b[39;00m \u001b[38;5;28misinstance\u001b[39m(key, \u001b[38;5;28mtuple\u001b[39m) \u001b[38;5;129;01mand\u001b[39;00m \u001b[38;5;28mlen\u001b[39m(key) \u001b[38;5;241m>\u001b[39m \u001b[38;5;241m1\u001b[39m:\n\u001b[0;32m   1330\u001b[0m     \u001b[38;5;66;03m# if len == 1, then it becomes a SeriesGroupBy and this is actually\u001b[39;00m\n\u001b[0;32m   1331\u001b[0m     \u001b[38;5;66;03m# valid syntax, so don't raise warning\u001b[39;00m\n\u001b[0;32m   1332\u001b[0m     warnings\u001b[38;5;241m.\u001b[39mwarn(\n\u001b[0;32m   1333\u001b[0m         \u001b[38;5;124m\"\u001b[39m\u001b[38;5;124mIndexing with multiple keys (implicitly converted to a tuple \u001b[39m\u001b[38;5;124m\"\u001b[39m\n\u001b[0;32m   1334\u001b[0m         \u001b[38;5;124m\"\u001b[39m\u001b[38;5;124mof keys) will be deprecated, use a list instead.\u001b[39m\u001b[38;5;124m\"\u001b[39m,\n\u001b[0;32m   1335\u001b[0m         \u001b[38;5;167;01mFutureWarning\u001b[39;00m,\n\u001b[0;32m   1336\u001b[0m         stacklevel\u001b[38;5;241m=\u001b[39mfind_stack_level(),\n\u001b[0;32m   1337\u001b[0m     )\n\u001b[1;32m-> 1338\u001b[0m \u001b[38;5;28;01mreturn\u001b[39;00m \u001b[38;5;28;43msuper\u001b[39;49m\u001b[43m(\u001b[49m\u001b[43m)\u001b[49m\u001b[38;5;241;43m.\u001b[39;49m\u001b[38;5;21;43m__getitem__\u001b[39;49m\u001b[43m(\u001b[49m\u001b[43mkey\u001b[49m\u001b[43m)\u001b[49m\n",
      "File \u001b[1;32m~\\anaconda3\\lib\\site-packages\\pandas\\core\\base.py:250\u001b[0m, in \u001b[0;36mSelectionMixin.__getitem__\u001b[1;34m(self, key)\u001b[0m\n\u001b[0;32m    248\u001b[0m \u001b[38;5;28;01melse\u001b[39;00m:\n\u001b[0;32m    249\u001b[0m     \u001b[38;5;28;01mif\u001b[39;00m key \u001b[38;5;129;01mnot\u001b[39;00m \u001b[38;5;129;01min\u001b[39;00m \u001b[38;5;28mself\u001b[39m\u001b[38;5;241m.\u001b[39mobj:\n\u001b[1;32m--> 250\u001b[0m         \u001b[38;5;28;01mraise\u001b[39;00m \u001b[38;5;167;01mKeyError\u001b[39;00m(\u001b[38;5;124mf\u001b[39m\u001b[38;5;124m\"\u001b[39m\u001b[38;5;124mColumn not found: \u001b[39m\u001b[38;5;132;01m{\u001b[39;00mkey\u001b[38;5;132;01m}\u001b[39;00m\u001b[38;5;124m\"\u001b[39m)\n\u001b[0;32m    251\u001b[0m     subset \u001b[38;5;241m=\u001b[39m \u001b[38;5;28mself\u001b[39m\u001b[38;5;241m.\u001b[39mobj[key]\n\u001b[0;32m    252\u001b[0m     ndim \u001b[38;5;241m=\u001b[39m subset\u001b[38;5;241m.\u001b[39mndim\n",
      "\u001b[1;31mKeyError\u001b[0m: 'Column not found: emissions'"
     ]
    }
   ],
   "source": [
    "result_df = df1.groupby(df1['period'])['emissions'].sum().reset_index"
   ]
  },
  {
   "cell_type": "code",
   "execution_count": 22,
   "id": "cc6f3b36",
   "metadata": {},
   "outputs": [
    {
     "ename": "AttributeError",
     "evalue": "'function' object has no attribute 'show'",
     "output_type": "error",
     "traceback": [
      "\u001b[1;31m---------------------------------------------------------------------------\u001b[0m",
      "\u001b[1;31mAttributeError\u001b[0m                            Traceback (most recent call last)",
      "Input \u001b[1;32mIn [22]\u001b[0m, in \u001b[0;36m<cell line: 1>\u001b[1;34m()\u001b[0m\n\u001b[1;32m----> 1\u001b[0m \u001b[43mresult_df\u001b[49m\u001b[38;5;241;43m.\u001b[39;49m\u001b[43mshow\u001b[49m()\n",
      "\u001b[1;31mAttributeError\u001b[0m: 'function' object has no attribute 'show'"
     ]
    }
   ],
   "source": [
    "result_df.show()\n"
   ]
  },
  {
   "cell_type": "code",
   "execution_count": 9,
   "id": "6cf34212",
   "metadata": {},
   "outputs": [],
   "source": [
    "df2 = pd.get_dummies(df1, columns=['fuelId'], drop_first=True)"
   ]
  },
  {
   "cell_type": "code",
   "execution_count": 65,
   "id": "f9fcc26b",
   "metadata": {},
   "outputs": [],
   "source": [
    "df2['period'] = pd.to_numeric(df2['period'], errors='coerce')\n",
    "df2['value'] = pd.to_numeric(df2['value'], errors='coerce')"
   ]
  },
  {
   "cell_type": "code",
   "execution_count": 69,
   "id": "5b4933ad",
   "metadata": {},
   "outputs": [],
   "source": [
    "X = sm.add_constant(df2[['period', 'fuelId_NG', \"fuelId_PE\"]])"
   ]
  },
  {
   "cell_type": "code",
   "execution_count": 70,
   "id": "50f919e9",
   "metadata": {},
   "outputs": [],
   "source": [
    "model = sm.OLS(df2['value'], X).fit()"
   ]
  },
  {
   "cell_type": "code",
   "execution_count": 71,
   "id": "0d998107",
   "metadata": {},
   "outputs": [
    {
     "name": "stdout",
     "output_type": "stream",
     "text": [
      "                            OLS Regression Results                            \n",
      "==============================================================================\n",
      "Dep. Variable:                  value   R-squared:                       0.003\n",
      "Model:                            OLS   Adj. R-squared:                  0.000\n",
      "Method:                 Least Squares   F-statistic:                     1.169\n",
      "Date:                Wed, 06 Mar 2024   Prob (F-statistic):              0.321\n",
      "Time:                        22:32:00   Log-Likelihood:                -7715.8\n",
      "No. Observations:                1040   AIC:                         1.544e+04\n",
      "Df Residuals:                    1036   BIC:                         1.546e+04\n",
      "Df Model:                           3                                         \n",
      "Covariance Type:            nonrobust                                         \n",
      "==============================================================================\n",
      "                 coef    std err          t      P>|t|      [0.025      0.975]\n",
      "------------------------------------------------------------------------------\n",
      "const       4644.1711   1.79e+04      0.260      0.795   -3.05e+04    3.98e+04\n",
      "period        -2.2418      8.864     -0.253      0.800     -19.634      15.151\n",
      "fuelId_NG    -55.7237     30.704     -1.815      0.070    -115.973       4.526\n",
      "fuelId_PE    -29.7180     30.704     -0.968      0.333     -89.968      30.532\n",
      "==============================================================================\n",
      "Omnibus:                     1648.824   Durbin-Watson:                   1.359\n",
      "Prob(Omnibus):                  0.000   Jarque-Bera (JB):           532109.973\n",
      "Skew:                           9.847   Prob(JB):                         0.00\n",
      "Kurtosis:                     112.049   Cond. No.                     2.88e+06\n",
      "==============================================================================\n",
      "\n",
      "Notes:\n",
      "[1] Standard Errors assume that the covariance matrix of the errors is correctly specified.\n",
      "[2] The condition number is large, 2.88e+06. This might indicate that there are\n",
      "strong multicollinearity or other numerical problems.\n"
     ]
    }
   ],
   "source": [
    "print(model.summary())"
   ]
  },
  {
   "cell_type": "code",
   "execution_count": null,
   "id": "48b0e4ca",
   "metadata": {},
   "outputs": [],
   "source": []
  },
  {
   "cell_type": "code",
   "execution_count": null,
   "id": "6b4dcba6",
   "metadata": {},
   "outputs": [],
   "source": []
  }
 ],
 "metadata": {
  "kernelspec": {
   "display_name": "Python 3 (ipykernel)",
   "language": "python",
   "name": "python3"
  },
  "language_info": {
   "codemirror_mode": {
    "name": "ipython",
    "version": 3
   },
   "file_extension": ".py",
   "mimetype": "text/x-python",
   "name": "python",
   "nbconvert_exporter": "python",
   "pygments_lexer": "ipython3",
   "version": "3.9.12"
  }
 },
 "nbformat": 4,
 "nbformat_minor": 5
}

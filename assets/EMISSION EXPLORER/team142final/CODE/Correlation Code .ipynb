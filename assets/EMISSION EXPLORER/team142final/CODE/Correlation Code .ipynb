{
 "cells": [
  {
   "cell_type": "code",
   "execution_count": 12,
   "id": "8f51d69c",
   "metadata": {},
   "outputs": [],
   "source": [
    "import pandas as pd \n",
    "from scipy.stats import pearsonr"
   ]
  },
  {
   "cell_type": "code",
   "execution_count": 15,
   "id": "02874f70",
   "metadata": {},
   "outputs": [
    {
     "data": {
      "text/html": [
       "<div>\n",
       "<style scoped>\n",
       "    .dataframe tbody tr th:only-of-type {\n",
       "        vertical-align: middle;\n",
       "    }\n",
       "\n",
       "    .dataframe tbody tr th {\n",
       "        vertical-align: top;\n",
       "    }\n",
       "\n",
       "    .dataframe thead th {\n",
       "        text-align: right;\n",
       "    }\n",
       "</style>\n",
       "<table border=\"1\" class=\"dataframe\">\n",
       "  <thead>\n",
       "    <tr style=\"text-align: right;\">\n",
       "      <th></th>\n",
       "      <th>Year</th>\n",
       "      <th>Population</th>\n",
       "      <th>Value</th>\n",
       "      <th>Region</th>\n",
       "    </tr>\n",
       "  </thead>\n",
       "  <tbody>\n",
       "    <tr>\n",
       "      <th>5</th>\n",
       "      <td>1996</td>\n",
       "      <td>57406</td>\n",
       "      <td>863.283769</td>\n",
       "      <td>WECC</td>\n",
       "    </tr>\n",
       "    <tr>\n",
       "      <th>6</th>\n",
       "      <td>1997</td>\n",
       "      <td>58487</td>\n",
       "      <td>873.770382</td>\n",
       "      <td>WECC</td>\n",
       "    </tr>\n",
       "    <tr>\n",
       "      <th>7</th>\n",
       "      <td>1998</td>\n",
       "      <td>59557</td>\n",
       "      <td>913.477350</td>\n",
       "      <td>WECC</td>\n",
       "    </tr>\n",
       "    <tr>\n",
       "      <th>8</th>\n",
       "      <td>1999</td>\n",
       "      <td>60598</td>\n",
       "      <td>926.438527</td>\n",
       "      <td>WECC</td>\n",
       "    </tr>\n",
       "    <tr>\n",
       "      <th>9</th>\n",
       "      <td>2000</td>\n",
       "      <td>61599</td>\n",
       "      <td>960.554793</td>\n",
       "      <td>WECC</td>\n",
       "    </tr>\n",
       "  </tbody>\n",
       "</table>\n",
       "</div>"
      ],
      "text/plain": [
       "   Year  Population       Value Region\n",
       "5  1996       57406  863.283769   WECC\n",
       "6  1997       58487  873.770382   WECC\n",
       "7  1998       59557  913.477350   WECC\n",
       "8  1999       60598  926.438527   WECC\n",
       "9  2000       61599  960.554793   WECC"
      ]
     },
     "execution_count": 15,
     "metadata": {},
     "output_type": "execute_result"
    }
   ],
   "source": [
    "df = pd.read_excel(\"Correlation data.xlsx\")\n",
    "df = df[(df['Year']>=1996)]\n",
    "df.head()"
   ]
  },
  {
   "cell_type": "code",
   "execution_count": 16,
   "id": "d56a28f2",
   "metadata": {},
   "outputs": [
    {
     "name": "stdout",
     "output_type": "stream",
     "text": [
      "['WECC' 'TX' 'SERC' 'RFC' 'NPCC' 'MRO']\n"
     ]
    }
   ],
   "source": [
    "region = df.Region.unique()\n",
    "print(region)"
   ]
  },
  {
   "cell_type": "code",
   "execution_count": 21,
   "id": "28937c63",
   "metadata": {},
   "outputs": [],
   "source": [
    "pearson_corr = {}\n",
    "for r in region:\n",
    "    data = df[(df['Region'] == r)]\n",
    "    pearson_corr[r] = round(pearsonr(data['Population'], data['Value'])[0],4)\n",
    "    "
   ]
  },
  {
   "cell_type": "code",
   "execution_count": 22,
   "id": "fd54a92e",
   "metadata": {},
   "outputs": [
    {
     "data": {
      "text/plain": [
       "{'WECC': -0.2282,\n",
       " 'TX': 0.0282,\n",
       " 'SERC': -0.6301,\n",
       " 'RFC': -0.8562,\n",
       " 'NPCC': -0.8612,\n",
       " 'MRO': -0.2946}"
      ]
     },
     "execution_count": 22,
     "metadata": {},
     "output_type": "execute_result"
    }
   ],
   "source": [
    "pearson_corr"
   ]
  },
  {
   "cell_type": "code",
   "execution_count": null,
   "id": "a9d3f0a7",
   "metadata": {},
   "outputs": [],
   "source": []
  }
 ],
 "metadata": {
  "kernelspec": {
   "display_name": "Python 3 (ipykernel)",
   "language": "python",
   "name": "python3"
  },
  "language_info": {
   "codemirror_mode": {
    "name": "ipython",
    "version": 3
   },
   "file_extension": ".py",
   "mimetype": "text/x-python",
   "name": "python",
   "nbconvert_exporter": "python",
   "pygments_lexer": "ipython3",
   "version": "3.9.12"
  }
 },
 "nbformat": 4,
 "nbformat_minor": 5
}
